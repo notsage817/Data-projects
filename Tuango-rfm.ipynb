{
 "cells": [
  {
   "cell_type": "markdown",
   "metadata": {},
   "source": [
    "# Tuango - RFM Analysis for Mobile App Push Messaging"
   ]
  },
  {
   "cell_type": "markdown",
   "metadata": {},
   "source": [
    "This project is based on a new way of purchase known as tuango in China, which is similar with groupon in the US.Messages of tuango for certain products are sent to customers to commit purchases. Too much less relevant messages would make customer feel the app bothering and useless.\n",
    "What we have is the response recevied after message of tuango for karaoke sent to 10% of the whole dataset. RFM analysis would be mainly used here to figure out who in the other 90% of customers would received the message to make profit and ROME as large as possible."
   ]
  },
  {
   "cell_type": "code",
   "execution_count": 289,
   "metadata": {},
   "outputs": [],
   "source": [
    "import pandas as pd\n",
    "import numpy as np\n",
    "import matplotlib.pyplot as plt\n",
    "import seaborn as sns\n",
    "from pyrsm import xtile, seprop\n",
    "from statsmodels.stats.proportion import proportions_ztest\n",
    "from scipy import stats\n",
    "from tempfile import NamedTemporaryFile as tmpfile"
   ]
  },
  {
   "cell_type": "code",
   "execution_count": 290,
   "metadata": {},
   "outputs": [],
   "source": [
    "tuango=pd.read_pickle('tuango.pkl')"
   ]
  },
  {
   "cell_type": "code",
   "execution_count": 291,
   "metadata": {},
   "outputs": [
    {
     "data": {
      "text/html": [
       "<div>\n",
       "<style scoped>\n",
       "    .dataframe tbody tr th:only-of-type {\n",
       "        vertical-align: middle;\n",
       "    }\n",
       "\n",
       "    .dataframe tbody tr th {\n",
       "        vertical-align: top;\n",
       "    }\n",
       "\n",
       "    .dataframe thead th {\n",
       "        text-align: right;\n",
       "    }\n",
       "</style>\n",
       "<table border=\"1\" class=\"dataframe\">\n",
       "  <thead>\n",
       "    <tr style=\"text-align: right;\">\n",
       "      <th></th>\n",
       "      <th>userid</th>\n",
       "      <th>recency</th>\n",
       "      <th>frequency</th>\n",
       "      <th>monetary</th>\n",
       "      <th>rfm_iq_pre</th>\n",
       "      <th>buyer</th>\n",
       "      <th>ordersize</th>\n",
       "      <th>platform</th>\n",
       "      <th>category</th>\n",
       "      <th>mobile_os</th>\n",
       "    </tr>\n",
       "  </thead>\n",
       "  <tbody>\n",
       "    <tr>\n",
       "      <th>0</th>\n",
       "      <td>U12617430</td>\n",
       "      <td>309</td>\n",
       "      <td>7</td>\n",
       "      <td>39.8</td>\n",
       "      <td>514</td>\n",
       "      <td>no</td>\n",
       "      <td>0.0</td>\n",
       "      <td>App</td>\n",
       "      <td>3</td>\n",
       "      <td>android</td>\n",
       "    </tr>\n",
       "    <tr>\n",
       "      <th>1</th>\n",
       "      <td>U63302737</td>\n",
       "      <td>297</td>\n",
       "      <td>8</td>\n",
       "      <td>39.8</td>\n",
       "      <td>514</td>\n",
       "      <td>no</td>\n",
       "      <td>0.0</td>\n",
       "      <td>Browser</td>\n",
       "      <td>3</td>\n",
       "      <td>android</td>\n",
       "    </tr>\n",
       "    <tr>\n",
       "      <th>2</th>\n",
       "      <td>U77095928</td>\n",
       "      <td>295</td>\n",
       "      <td>1</td>\n",
       "      <td>72.9</td>\n",
       "      <td>553</td>\n",
       "      <td>no</td>\n",
       "      <td>0.0</td>\n",
       "      <td>Browser</td>\n",
       "      <td>3</td>\n",
       "      <td>android</td>\n",
       "    </tr>\n",
       "    <tr>\n",
       "      <th>3</th>\n",
       "      <td>U43509181</td>\n",
       "      <td>277</td>\n",
       "      <td>1</td>\n",
       "      <td>40.0</td>\n",
       "      <td>554</td>\n",
       "      <td>no</td>\n",
       "      <td>0.0</td>\n",
       "      <td>Browser</td>\n",
       "      <td>3</td>\n",
       "      <td>android</td>\n",
       "    </tr>\n",
       "    <tr>\n",
       "      <th>4</th>\n",
       "      <td>U23195941</td>\n",
       "      <td>259</td>\n",
       "      <td>1</td>\n",
       "      <td>21.0</td>\n",
       "      <td>555</td>\n",
       "      <td>no</td>\n",
       "      <td>0.0</td>\n",
       "      <td>App</td>\n",
       "      <td>3</td>\n",
       "      <td>android</td>\n",
       "    </tr>\n",
       "  </tbody>\n",
       "</table>\n",
       "</div>"
      ],
      "text/plain": [
       "      userid  recency  frequency  monetary rfm_iq_pre buyer  ordersize  \\\n",
       "0  U12617430      309          7      39.8        514    no        0.0   \n",
       "1  U63302737      297          8      39.8        514    no        0.0   \n",
       "2  U77095928      295          1      72.9        553    no        0.0   \n",
       "3  U43509181      277          1      40.0        554    no        0.0   \n",
       "4  U23195941      259          1      21.0        555    no        0.0   \n",
       "\n",
       "  platform  category mobile_os  \n",
       "0      App         3   android  \n",
       "1  Browser         3   android  \n",
       "2  Browser         3   android  \n",
       "3  Browser         3   android  \n",
       "4      App         3   android  "
      ]
     },
     "execution_count": 291,
     "metadata": {},
     "output_type": "execute_result"
    }
   ],
   "source": [
    "tuango.head()"
   ]
  },
  {
   "cell_type": "markdown",
   "metadata": {},
   "source": [
    "### I.Preliminary and Quintile Analysis"
   ]
  },
  {
   "cell_type": "markdown",
   "metadata": {},
   "source": [
    "Firstly, the response rate in the whole sample set could tell us a full picture of customers' willing to resonde."
   ]
  },
  {
   "cell_type": "code",
   "execution_count": 292,
   "metadata": {},
   "outputs": [
    {
     "name": "stdout",
     "output_type": "stream",
     "text": [
      "The percentage of customers reponded is 2.981%\n"
     ]
    }
   ],
   "source": [
    "resp_rate=np.nanmean(tuango['buyer']=='yes')*100\n",
    "print('The percentage of customers reponded is {}%'.format(round(resp_rate,3)))"
   ]
  },
  {
   "cell_type": "markdown",
   "metadata": {},
   "source": [
    "For the customers who actually respond the offer and purchase Karaoke, the average ordersize could help us know about the consumption ability."
   ]
  },
  {
   "cell_type": "code",
   "execution_count": 293,
   "metadata": {},
   "outputs": [
    {
     "name": "stdout",
     "output_type": "stream",
     "text": [
      "The average amount spent on the karaoke deal by customers that bought one(or more) is $202.13\n"
     ]
    }
   ],
   "source": [
    "avg_amount=np.nanmean(tuango[tuango['buyer']=='yes']['ordersize'])\n",
    "print('The average amount spent on the karaoke deal by customers that bought one(or more) is ${}'.format(round(avg_amount,2)))"
   ]
  },
  {
   "cell_type": "markdown",
   "metadata": {},
   "source": [
    "Then the quintiles for each fields(recency,frequency,monetary) should be created to take a more descriptive look on customers.Recency is days since last purchase, frequency is the number of deals the customer purchased  and monetary is average amount spent per order. "
   ]
  },
  {
   "cell_type": "code",
   "execution_count": 294,
   "metadata": {},
   "outputs": [],
   "source": [
    "tuango['rec_iq']=xtile(tuango['recency'],5)\n",
    "tuango['fre_iq']=xtile(tuango['frequency'],5,rev=True)\n",
    "tuango['mon_iq']=xtile(tuango['monetary'],5,rev=True)"
   ]
  },
  {
   "cell_type": "markdown",
   "metadata": {},
   "source": [
    "After creating quintiles for recency,frequency and monetary fields, response rate and average amount of each group could be interpreted for details.\n",
    "Here are two functions for groupping and ploting bar charts."
   ]
  },
  {
   "cell_type": "code",
   "execution_count": 295,
   "metadata": {},
   "outputs": [],
   "source": [
    "def prop_calc(df, group, rvar, lev):\n",
    "    \"\"\"Calculate proportions per value of the grouping variable\"\"\"\n",
    "    df[\"rvar_int\"] = np.where(df[rvar] == lev, 1, 0)\n",
    "    df = df.groupby(group)\n",
    "    return df[\"rvar_int\"].agg(prop=\"mean\").reset_index().rename(columns={\"prop\": rvar})\n",
    "\n",
    "\n",
    "def prop_plot(df, lev, breakeven=0):\n",
    "    \"\"\"Plot return from the prop_calc function\"\"\"\n",
    "    plt.clf()\n",
    "    cn = df.columns\n",
    "    fig = sns.barplot(x=cn[0], y=cn[1], color=\"blue\", data=df)\n",
    "    fig.set(ylabel=f\"Proportion of {cn[1]} = '{lev}'\")\n",
    "    if breakeven > 0:\n",
    "        fig.axhline(breakeven, linestyle=\"dashed\", linewidth=0.5)\n",
    "    plt.show()"
   ]
  },
  {
   "cell_type": "code",
   "execution_count": 296,
   "metadata": {},
   "outputs": [
    {
     "data": {
      "image/png": "[encoded data removed]",
      "text/plain": [
       "<Figure size 432x288 with 1 Axes>"
      ]
     },
     "metadata": {
      "needs_background": "light"
     },
     "output_type": "display_data"
    }
   ],
   "source": [
    "props=prop_calc(tuango,'rec_iq','buyer','yes')\n",
    "prop_plot(props,'yes')"
   ]
  },
  {
   "cell_type": "code",
   "execution_count": 297,
   "metadata": {},
   "outputs": [
    {
     "data": {
      "image/png": "[encoded data removed]",
      "text/plain": [
       "<Figure size 432x288 with 1 Axes>"
      ]
     },
     "metadata": {
      "needs_background": "light"
     },
     "output_type": "display_data"
    }
   ],
   "source": [
    "props=prop_calc(tuango,'fre_iq','buyer','yes')\n",
    "prop_plot(props,'yes')"
   ]
  },
  {
   "cell_type": "code",
   "execution_count": 298,
   "metadata": {},
   "outputs": [
    {
     "data": {
      "image/png": "[encoded data removed]",
      "text/plain": [
       "<Figure size 432x288 with 1 Axes>"
      ]
     },
     "metadata": {
      "needs_background": "light"
     },
     "output_type": "display_data"
    }
   ],
   "source": [
    "props=prop_calc(tuango,'mon_iq','buyer','yes')\n",
    "prop_plot(props,'yes')"
   ]
  },
  {
   "cell_type": "code",
   "execution_count": 299,
   "metadata": {},
   "outputs": [],
   "source": [
    "tuango_buyer=tuango[tuango.buyer == 'yes']"
   ]
  },
  {
   "cell_type": "code",
   "execution_count": 300,
   "metadata": {},
   "outputs": [
    {
     "data": {
      "image/png": "[encoded data removed]",
      "text/plain": [
       "<Figure size 432x288 with 1 Axes>"
      ]
     },
     "metadata": {
      "needs_background": "light"
     },
     "output_type": "display_data"
    }
   ],
   "source": [
    "rec_iq_order=tuango_buyer.groupby(tuango['rec_iq']).mean()\n",
    "fig = sns.barplot(x = 'rec_iq',y = 'ordersize',data=rec_iq_order,color='blue')\n",
    "plt.ylabel('Average amount spent in RMB per recency quintile')\n",
    "plt.show()"
   ]
  },
  {
   "cell_type": "code",
   "execution_count": 301,
   "metadata": {},
   "outputs": [
    {
     "data": {
      "image/png": "[encoded data removed]",
      "text/plain": [
       "<Figure size 432x288 with 1 Axes>"
      ]
     },
     "metadata": {
      "needs_background": "light"
     },
     "output_type": "display_data"
    }
   ],
   "source": [
    "fre_iq_order=tuango_buyer.groupby(tuango['fre_iq']).mean()\n",
    "fig = sns.barplot(x = 'fre_iq',y = 'ordersize',data=fre_iq_order,color='blue')\n",
    "plt.ylabel('Average amount spent in RMB per frequency quintile')\n",
    "plt.show()"
   ]
  },
  {
   "cell_type": "code",
   "execution_count": 302,
   "metadata": {},
   "outputs": [
    {
     "data": {
      "image/png": "[encoded data removed]",
      "text/plain": [
       "<Figure size 432x288 with 1 Axes>"
      ]
     },
     "metadata": {
      "needs_background": "light"
     },
     "output_type": "display_data"
    }
   ],
   "source": [
    "mon_iq_order=tuango_buyer.groupby(tuango['mon_iq']).mean()\n",
    "sns.barplot(x='mon_iq',y='ordersize',data=mon_iq_order,color='blue')\n",
    "plt.ylabel('Average amount spent in RMB per monetary quintile')\n",
    "plt.show()"
   ]
  },
  {
   "cell_type": "markdown",
   "metadata": {},
   "source": [
    "The probability of response is descending as quintiles of recency,frequency and monetary go from 1 to 5.\n",
    "However, the difference between each two adjacent bins of recency are similar with the highest probability almost five times of the lowest one. \n",
    "\n",
    "For frequency, the highest probability of response is way much higher than the other four.Customers in the group with largest frequency are much more likely to responde the message than the other four while the difference brought by frequency is not obvious in the other four groups.\n",
    "\n",
    "For monetary, the top two bins with the highest probability of response are similar but much higher than the other three.Customers whose average ordersize are in the top 2 groups are much more likely to responde messages than the other three bins. "
   ]
  },
  {
   "cell_type": "markdown",
   "metadata": {},
   "source": [
    "As for the ordersize, it shows that for customer who have placed orders, the difference brought by recency,frequency and monetary is not as obvious as response rate."
   ]
  },
  {
   "cell_type": "markdown",
   "metadata": {},
   "source": [
    "### II. Profitability analysis"
   ]
  },
  {
   "cell_type": "markdown",
   "metadata": {},
   "source": [
    "Create 125 rfm indexs by clinging the three labels together."
   ]
  },
  {
   "cell_type": "code",
   "execution_count": 303,
   "metadata": {},
   "outputs": [],
   "source": [
    "tuango['rfm_iq']=tuango['rec_iq'].astype(str)+tuango['fre_iq'].astype(str)+tuango['mon_iq'].astype(str)"
   ]
  },
  {
   "cell_type": "markdown",
   "metadata": {},
   "source": [
    "Since the revenue is the product of responses received and amounts of each order and 50% with the assumption that karaoke would take the other 50%, the formula of breakeven is shown below.The breakeven base on the whole picture of sample set."
   ]
  },
  {
   "cell_type": "code",
   "execution_count": 304,
   "metadata": {},
   "outputs": [
    {
     "name": "stdout",
     "output_type": "stream",
     "text": [
      "The breakeven response rate is 2.474%\n"
     ]
    }
   ],
   "source": [
    "breakeven=2.5/(avg_amount*0.5)*100\n",
    "print('The breakeven response rate is {}%'.format(round(breakeven,3)))"
   ]
  },
  {
   "cell_type": "markdown",
   "metadata": {},
   "source": [
    "If we typically send messages to all the other customers, we assume that the average amount of orders would be the same as that of the sample set as $202.13. \n",
    "Also, the response rate is assumed same as sample set."
   ]
  },
  {
   "cell_type": "code",
   "execution_count": 305,
   "metadata": {},
   "outputs": [],
   "source": [
    "perc_mail = 1.0\n",
    "nr_mail = 250902 * perc_mail\n",
    "rep_rate = np.nanmean(tuango['buyer']=='yes')\n",
    "nr_resp = nr_mail * rep_rate\n",
    "mail_cost = 2.5 * nr_mail\n",
    "revenue = avg_amount * nr_resp*0.5\n",
    "profit_nt = revenue - mail_cost\n",
    "ROME_nt = profit_nt / mail_cost"
   ]
  },
  {
   "cell_type": "code",
   "execution_count": 306,
   "metadata": {},
   "outputs": [
    {
     "name": "stdout",
     "output_type": "stream",
     "text": [
      "Without targeting BBB would mail all 250,902 (100.0%) customers.\n",
      "The response rate for the selected customers is predicted to be 2.98% or 7,479\n",
      "buyers. The revenue is equal to $755,860. The expected profit is $128,605. The mailing\n",
      "cost is estimated to be $627,255 with a ROME of 20.5%\n"
     ]
    }
   ],
   "source": [
    "print(\n",
    "    f\"\"\"Without targeting BBB would mail all {int(nr_mail):,} ({round((100 * perc_mail), 2)}%) customers.\n",
    "The response rate for the selected customers is predicted to be {round((100 * rep_rate), 2)}% or {int(nr_resp):,}\n",
    "buyers. The revenue is equal to ${int(revenue):,}. The expected profit is ${int(profit_nt):,}. The mailing\n",
    "cost is estimated to be ${int(mail_cost):,} with a ROME of {round((100 * ROME_nt), 2)}%\"\"\"\n",
    ")"
   ]
  },
  {
   "cell_type": "markdown",
   "metadata": {},
   "source": [
    "Besides the independent RFM index, sequential RFM index is used as often and we would create another index named rfm_sq to label the customers. Sequential RFM index has the same quintiles of recency with independent RFM index, but the quintiles of frequency are created after grouping data by quintiles of recency and quintiles of monetary are created after grouping data by quintiles of the former two bins."
   ]
  },
  {
   "cell_type": "code",
   "execution_count": 307,
   "metadata": {},
   "outputs": [],
   "source": [
    "tuango['fre_sq']=tuango.groupby('rec_iq')['frequency'].transform(xtile,5,rev=True)\n",
    "tuango['mon_sq']=tuango.groupby(['rec_iq','fre_sq'])['monetary'].transform(xtile,5,rev=True)\n",
    "tuango['mon_sq']=tuango['mon_sq'].astype(int)\n",
    "tuango['rfm_sq']=tuango['rec_iq'].astype(str)+tuango['fre_sq'].astype(str)+tuango['mon_sq'].astype(str)"
   ]
  },
  {
   "cell_type": "code",
   "execution_count": 308,
   "metadata": {},
   "outputs": [
    {
     "data": {
      "text/plain": [
       "0.6311069660664324"
      ]
     },
     "execution_count": 308,
     "metadata": {},
     "output_type": "execute_result"
    }
   ],
   "source": [
    "np.nanmean(tuango['rfm_iq'] == tuango['rfm_sq'])"
   ]
  },
  {
   "cell_type": "markdown",
   "metadata": {},
   "source": [
    "Apparently only 63% of customers have the same index for independent rfm index and sequential rfm index."
   ]
  },
  {
   "cell_type": "code",
   "execution_count": 309,
   "metadata": {},
   "outputs": [],
   "source": [
    "def prop_plott(df, lev, breakeven=breakeven):\n",
    "    \"\"\"Plot return from the prop_calc function\"\"\"\n",
    "    plt.clf()\n",
    "    cn = df.columns\n",
    "    fig = sns.barplot(x=cn[0], y=cn[1], color=\"blue\", data=df)\n",
    "    fig.set(ylabel=f\"Proportion of {cn[1]} = '{lev}'\")\n",
    "    if breakeven > 0:\n",
    "        fig.axhline(breakeven, linestyle=\"dashed\", linewidth=0.5)\n",
    "    plt.show()"
   ]
  },
  {
   "cell_type": "code",
   "execution_count": 310,
   "metadata": {},
   "outputs": [],
   "source": [
    "def response_rate(x):\n",
    "    return np.mean(x == \"yes\")\n",
    "def mailto(x, breakeven):\n",
    "    return np.mean(x == \"yes\") > breakeven/100"
   ]
  },
  {
   "cell_type": "code",
   "execution_count": 311,
   "metadata": {},
   "outputs": [],
   "source": [
    "def perf_calc(group):\n",
    "    tuango['rfm_resp'] = tuango.groupby(group)['buyer'].transform(response_rate)\n",
    "    tuango[\"mailto\"] = tuango.groupby(group)[\"buyer\"].transform(mailto, breakeven)\n",
    "    \n",
    "    perc_mail = np.nanmean(tuango[\"mailto\"])\n",
    "    nr_mail = 250902 * perc_mail\n",
    "    resp_rate = np.nanmean(tuango.query(f\"mailto == True\")[\"buyer\"] == \"yes\")\n",
    "    nr_resp = nr_mail * resp_rate\n",
    "    deal_cost = 2.5 * nr_mail\n",
    "    profit = 0.5 * avg_amount * nr_resp - deal_cost\n",
    "    ROME = profit / deal_cost\n",
    "    print(f\"\"\"With filtering, Tuango would mail all {int(nr_mail):,} ({round((100 * perc_mail), 2)}%) customers.\n",
    "The response rate for the selected customers is predicted to be {round((100 * resp_rate), 2)}% or {int(nr_resp):,}buyers. \n",
    "The projected profit is ${int(profit):,}. \n",
    "The cost of offering a deal is estimated to be ${int(deal_cost):,} with a ROME of {round((100 * ROME), 2)}%\"\"\")\n",
    "    return resp_rate, deal_cost, profit, ROME"
   ]
  },
  {
   "cell_type": "code",
   "execution_count": 312,
   "metadata": {},
   "outputs": [
    {
     "name": "stdout",
     "output_type": "stream",
     "text": [
      "With filtering, Tuango would mail all 103,734 (41.34%) customers.\n",
      "The response rate for the selected customers is predicted to be 5.68% or 5,895buyers. \n",
      "The projected profit is $336,439. \n",
      "The cost of offering a deal is estimated to be $259,335 with a ROME of 129.73%\n"
     ]
    }
   ],
   "source": [
    "resp_rate_sq, deal_cost_sq, profit_sq, ROME_sq=perf_calc('rfm_sq')"
   ]
  },
  {
   "cell_type": "code",
   "execution_count": 313,
   "metadata": {},
   "outputs": [
    {
     "name": "stdout",
     "output_type": "stream",
     "text": [
      "With filtering, Tuango would mail all 111,708 (44.52%) customers.\n",
      "The response rate for the selected customers is predicted to be 5.41% or 6,048buyers. \n",
      "The projected profit is $331,967. \n",
      "The cost of offering a deal is estimated to be $279,270 with a ROME of 118.87%\n"
     ]
    }
   ],
   "source": [
    "resp_rate_iq,deal_cost_iq,profit_iq,ROME_iq=perf_calc('rfm_iq')"
   ]
  },
  {
   "cell_type": "markdown",
   "metadata": {},
   "source": [
    "Independent RFM index bases on the quintiles independently created by recency, frequency and monetary, which means the three fields are considered independently.This index gives us a whole picture of how the three characters perform equally for each customer.\n",
    "As for sequential RFM, since the importance of the three fields is recency>frequency>monetary, quintiles of frequency are more likely depend on the frequency of customers in the same quntile of recency. Thus,sequential RFM may be more accurate."
   ]
  },
  {
   "cell_type": "markdown",
   "metadata": {},
   "source": [
    "Calculations above assume a single breakeven response rate that applies across all cells.Actually, the response rates for different cells are different because the average ordersize could be different for different groups.It may be more realistic if we use different breakeven response rates for calculation."
   ]
  },
  {
   "cell_type": "code",
   "execution_count": 314,
   "metadata": {},
   "outputs": [],
   "source": [
    "tuango['rfm_sq_resp']=tuango.groupby('rfm_sq')['buyer'].transform(response_rate)"
   ]
  },
  {
   "cell_type": "code",
   "execution_count": 315,
   "metadata": {},
   "outputs": [],
   "source": [
    "breakeven=2.5/(tuango[tuango.buyer == 'yes'].groupby('rfm_sq')['ordersize'].mean()*0.5)"
   ]
  },
  {
   "cell_type": "code",
   "execution_count": 316,
   "metadata": {},
   "outputs": [],
   "source": [
    "breakeven=pd.DataFrame(breakeven)\n",
    "breakeven.columns=['breakeven']"
   ]
  },
  {
   "cell_type": "code",
   "execution_count": 317,
   "metadata": {},
   "outputs": [],
   "source": [
    "tuango=tuango.merge(breakeven,how='left',on='rfm_sq')"
   ]
  },
  {
   "cell_type": "code",
   "execution_count": 318,
   "metadata": {},
   "outputs": [],
   "source": [
    "tuango['breakeven'].fillna(0.02474,inplace=True)"
   ]
  },
  {
   "cell_type": "code",
   "execution_count": 319,
   "metadata": {},
   "outputs": [],
   "source": [
    "tuango['rfm_sq_mailto']=tuango['rfm_sq_resp']>tuango['breakeven']"
   ]
  },
  {
   "cell_type": "code",
   "execution_count": 321,
   "metadata": {},
   "outputs": [
    {
     "name": "stdout",
     "output_type": "stream",
     "text": [
      "Based on different breakeven response rates, Tuango would mail all 109,080 (43.48%) customers.\n",
      "The response rate for the selected customers is predicted to be 5.52% or 6,021buyers. \n",
      "The projected profit is $335,808. \n",
      "The cost of offering a deal is estimated to be $272,700 with a ROME of 123.14%\n"
     ]
    }
   ],
   "source": [
    "perc_mail = np.nanmean(tuango[\"rfm_sq_mailto\"])\n",
    "nr_mail = 250902 * perc_mail\n",
    "resp_rate_filtersq = np.nanmean(tuango.query(f\"rfm_sq_mailto == True\")[\"buyer\"] == \"yes\")\n",
    "nr_resp = nr_mail * resp_rate_filtersq\n",
    "deal_cost_filsq = 2.5 * nr_mail\n",
    "profit_filsq = 0.5 * avg_amount * nr_resp - deal_cost_filsq\n",
    "ROME_filsq = profit_filsq / deal_cost_filsq\n",
    "print(f\"\"\"Based on different breakeven response rates, Tuango would mail all {int(nr_mail):,} ({round((100 * perc_mail), 2)}%) customers.\n",
    "The response rate for the selected customers is predicted to be {round((100 * resp_rate_filtersq), 2)}% or {int(nr_resp):,}buyers. \n",
    "The projected profit is ${int(profit_filsq):,}. \n",
    "The cost of offering a deal is estimated to be ${int(deal_cost_filsq):,} with a ROME of {round((100 * ROME_filsq), 2)}%\"\"\")"
   ]
  },
  {
   "cell_type": "markdown",
   "metadata": {},
   "source": [
    "Up to now, we get predictive profit and ROME based on that the response rate is assumed as constant but not estimated by sample. To make the assumptions more reasonable, the response rate we estimated need to be adjusted for the standard error.\n",
    "Firstly, we calculate the z-value and p-value."
   ]
  },
  {
   "cell_type": "code",
   "execution_count": 323,
   "metadata": {},
   "outputs": [
    {
     "data": {
      "text/plain": [
       "count    27878.000000\n",
       "mean         0.029808\n",
       "min          0.000000\n",
       "max          1.000000\n",
       "Name: buyer_int, dtype: float64"
      ]
     },
     "execution_count": 323,
     "metadata": {},
     "output_type": "execute_result"
    }
   ],
   "source": [
    "tuango['buyer_int'] = np.where(tuango['buyer']=='yes',1,0)\n",
    "tuango['buyer_int'].agg(['count','mean',min,max])"
   ]
  },
  {
   "cell_type": "code",
   "execution_count": 324,
   "metadata": {},
   "outputs": [
    {
     "name": "stdout",
     "output_type": "stream",
     "text": [
      "z.value = 4.431\n",
      "p.value = 0.0\n",
      "p.value = 0.0\n"
     ]
    }
   ],
   "source": [
    "breakeven = 0.02474\n",
    "sp = tuango.query(\"rfm_iq == '111'\")[\"buyer_int\"].agg([\"count\", \"sum\"])\n",
    "stat,pval=proportions_ztest(sp[1], sp[0], breakeven, alternative=\"larger\")\n",
    "print(f\"z.value = {round(stat, 3)}\\np.value = {round(pval, 3)}\")\n",
    "pval = stats.binom_test(sp[1], n=sp[0], p=breakeven, alternative=\"greater\")\n",
    "print(f\"p.value = {round(pval, 3)}\")"
   ]
  },
  {
   "cell_type": "markdown",
   "metadata": {},
   "source": [
    "For example, the values above mean we could reject the h0 hypothesis and accept the alternative that the proportions of response is higher than the breakeven point based on the whole sample set."
   ]
  },
  {
   "cell_type": "code",
   "execution_count": 327,
   "metadata": {},
   "outputs": [
    {
     "name": "stdout",
     "output_type": "stream",
     "text": [
      "   rfm_iq      prop\n",
      "0     111  0.174603\n",
      "1     112  0.142077\n",
      "2     211  0.114865\n",
      "3     122  0.113924\n",
      "4     311  0.103226\n",
      "5     321  0.091837\n",
      "6     141  0.090090\n",
      "7     132  0.087629\n",
      "8     231  0.084337\n",
      "9     152  0.082759\n",
      "10    212  0.082524\n",
      "11    142  0.079412\n",
      "12    131  0.075556\n",
      "13    133  0.075342\n",
      "14    114  0.074919\n",
      "15    242  0.074303\n",
      "16    121  0.074074\n",
      "17    214  0.064394\n",
      "18    221  0.062500\n",
      "19    153  0.062344\n",
      "20    113  0.058333\n",
      "21    151  0.057143\n",
      "22    232  0.056872\n",
      "23    134  0.051020\n",
      "24    223  0.050000\n",
      "25    143  0.047312\n",
      "26    123  0.046296\n",
      "27    452  0.045267\n",
      "28    222  0.044643\n",
      "29    213  0.044534\n",
      "30    241  0.042453\n",
      "31    224  0.040404\n",
      "32    323  0.039604\n",
      "33    115  0.039474\n",
      "34    312  0.039409\n",
      "35    144  0.038760\n",
      "36    421  0.038462\n",
      "37    324  0.037037\n",
      "38    514  0.036145\n",
      "39    322  0.036036\n",
      "40    411  0.035714\n",
      "41    351  0.035398\n",
      "42    523  0.034091\n",
      "43    251  0.033333\n",
      "44    314  0.032432\n",
      "45    233  0.032000\n",
      "46    243  0.031161\n",
      "47    215  0.029915\n",
      "48    412  0.029851\n",
      "49    441  0.029148\n",
      "50    154  0.028257\n",
      "51    423  0.028037\n",
      "52    342  0.028011\n",
      "53    432  0.027624\n",
      "54    313  0.027624\n",
      "55    254  0.027211\n",
      "56    341  0.026316\n"
     ]
    }
   ],
   "source": [
    "be = (\n",
    "    tuango.groupby(\"rfm_iq\")[\"buyer_int\"]\n",
    "    .agg(np.nanmean)\n",
    "    .sort_values(ascending=False)\n",
    "    .reset_index()\n",
    "    .rename(columns={\"buyer_int\": \"prop\"})\n",
    ")\n",
    "print(be.query(f\"prop > {breakeven}\"))"
   ]
  },
  {
   "cell_type": "code",
   "execution_count": 328,
   "metadata": {},
   "outputs": [
    {
     "name": "stdout",
     "output_type": "stream",
     "text": [
      "z.value = 0.201\n",
      "p.value = 0.42\n",
      "p.value = 0.46\n"
     ]
    }
   ],
   "source": [
    "breakeven = 0.02474\n",
    "sp = tuango.query(\"rfm_iq == '341'\")[\"buyer_int\"].agg([\"count\", \"sum\"])\n",
    "stat,pval=proportions_ztest(sp[1], sp[0], breakeven, alternative=\"larger\")\n",
    "print(f\"z.value = {round(stat, 3)}\\np.value = {round(pval, 3)}\")\n",
    "pval = stats.binom_test(sp[1], n=sp[0], p=breakeven, alternative=\"greater\")\n",
    "print(f\"p.value = {round(pval, 3)}\")"
   ]
  },
  {
   "cell_type": "markdown",
   "metadata": {},
   "source": [
    "We do the same thing for cell will be mailed but with lowest response rate. \n",
    "Results above shows that we cannot reject the h0 hypothesis that the response rate is lower than breakeven response rate.\n",
    "So the low bound of response rate of each group is calculated below."
   ]
  },
  {
   "cell_type": "code",
   "execution_count": 329,
   "metadata": {},
   "outputs": [],
   "source": [
    "tuan_lbiq = (\n",
    "    tuango.groupby(\"rfm_iq\")[\"buyer_int\"]\n",
    "    .agg(n_obs=len, prop=np.mean, se=seprop)\n",
    "    .reset_index()\n",
    ")\n",
    "tuan_lbiq[\"prop_lb\"] = tuan_lbiq[\"prop\"] - 1.64 * tuan_lbiq[\"se\"]"
   ]
  },
  {
   "cell_type": "code",
   "execution_count": 330,
   "metadata": {},
   "outputs": [
    {
     "data": {
      "text/html": [
       "<div>\n",
       "<style scoped>\n",
       "    .dataframe tbody tr th:only-of-type {\n",
       "        vertical-align: middle;\n",
       "    }\n",
       "\n",
       "    .dataframe tbody tr th {\n",
       "        vertical-align: top;\n",
       "    }\n",
       "\n",
       "    .dataframe thead th {\n",
       "        text-align: right;\n",
       "    }\n",
       "</style>\n",
       "<table border=\"1\" class=\"dataframe\">\n",
       "  <thead>\n",
       "    <tr style=\"text-align: right;\">\n",
       "      <th></th>\n",
       "      <th>rfm_iq</th>\n",
       "      <th>n_obs</th>\n",
       "      <th>prop</th>\n",
       "      <th>se</th>\n",
       "      <th>prop_lb</th>\n",
       "    </tr>\n",
       "  </thead>\n",
       "  <tbody>\n",
       "    <tr>\n",
       "      <th>0</th>\n",
       "      <td>111</td>\n",
       "      <td>126</td>\n",
       "      <td>0.174603</td>\n",
       "      <td>0.033820</td>\n",
       "      <td>0.119139</td>\n",
       "    </tr>\n",
       "    <tr>\n",
       "      <th>1</th>\n",
       "      <td>112</td>\n",
       "      <td>183</td>\n",
       "      <td>0.142077</td>\n",
       "      <td>0.025808</td>\n",
       "      <td>0.099751</td>\n",
       "    </tr>\n",
       "    <tr>\n",
       "      <th>2</th>\n",
       "      <td>113</td>\n",
       "      <td>240</td>\n",
       "      <td>0.058333</td>\n",
       "      <td>0.015129</td>\n",
       "      <td>0.033522</td>\n",
       "    </tr>\n",
       "    <tr>\n",
       "      <th>3</th>\n",
       "      <td>114</td>\n",
       "      <td>307</td>\n",
       "      <td>0.074919</td>\n",
       "      <td>0.015025</td>\n",
       "      <td>0.050278</td>\n",
       "    </tr>\n",
       "    <tr>\n",
       "      <th>4</th>\n",
       "      <td>115</td>\n",
       "      <td>228</td>\n",
       "      <td>0.039474</td>\n",
       "      <td>0.012896</td>\n",
       "      <td>0.018325</td>\n",
       "    </tr>\n",
       "    <tr>\n",
       "      <th>...</th>\n",
       "      <td>...</td>\n",
       "      <td>...</td>\n",
       "      <td>...</td>\n",
       "      <td>...</td>\n",
       "      <td>...</td>\n",
       "    </tr>\n",
       "    <tr>\n",
       "      <th>120</th>\n",
       "      <td>551</td>\n",
       "      <td>133</td>\n",
       "      <td>0.000000</td>\n",
       "      <td>0.000000</td>\n",
       "      <td>0.000000</td>\n",
       "    </tr>\n",
       "    <tr>\n",
       "      <th>121</th>\n",
       "      <td>552</td>\n",
       "      <td>257</td>\n",
       "      <td>0.015564</td>\n",
       "      <td>0.007721</td>\n",
       "      <td>0.002901</td>\n",
       "    </tr>\n",
       "    <tr>\n",
       "      <th>122</th>\n",
       "      <td>553</td>\n",
       "      <td>325</td>\n",
       "      <td>0.009231</td>\n",
       "      <td>0.005305</td>\n",
       "      <td>0.000531</td>\n",
       "    </tr>\n",
       "    <tr>\n",
       "      <th>123</th>\n",
       "      <td>554</td>\n",
       "      <td>304</td>\n",
       "      <td>0.000000</td>\n",
       "      <td>0.000000</td>\n",
       "      <td>0.000000</td>\n",
       "    </tr>\n",
       "    <tr>\n",
       "      <th>124</th>\n",
       "      <td>555</td>\n",
       "      <td>263</td>\n",
       "      <td>0.003802</td>\n",
       "      <td>0.003795</td>\n",
       "      <td>-0.002422</td>\n",
       "    </tr>\n",
       "  </tbody>\n",
       "</table>\n",
       "<p>125 rows × 5 columns</p>\n",
       "</div>"
      ],
      "text/plain": [
       "    rfm_iq  n_obs      prop        se   prop_lb\n",
       "0      111    126  0.174603  0.033820  0.119139\n",
       "1      112    183  0.142077  0.025808  0.099751\n",
       "2      113    240  0.058333  0.015129  0.033522\n",
       "3      114    307  0.074919  0.015025  0.050278\n",
       "4      115    228  0.039474  0.012896  0.018325\n",
       "..     ...    ...       ...       ...       ...\n",
       "120    551    133  0.000000  0.000000  0.000000\n",
       "121    552    257  0.015564  0.007721  0.002901\n",
       "122    553    325  0.009231  0.005305  0.000531\n",
       "123    554    304  0.000000  0.000000  0.000000\n",
       "124    555    263  0.003802  0.003795 -0.002422\n",
       "\n",
       "[125 rows x 5 columns]"
      ]
     },
     "execution_count": 330,
     "metadata": {},
     "output_type": "execute_result"
    }
   ],
   "source": [
    "tuan_lbiq"
   ]
  },
  {
   "cell_type": "code",
   "execution_count": 332,
   "metadata": {},
   "outputs": [
    {
     "name": "stdout",
     "output_type": "stream",
     "text": [
      "Based on independent RFM, after adjustment for prediction precision, the number of customers BBB should mail is 54,486 (21.72%).\n",
      "The response rate for the selected customers is predicted to be 7.57% or 4,122 buyers. \n",
      "The expected profit is $280,372. \n",
      "The mailing cost is estimated to be $136,215 with a ROME of 205.83%\n"
     ]
    }
   ],
   "source": [
    "def mailto_lb(x, breakeven):\n",
    "    x = x == \"yes\"\n",
    "    return (np.mean(x) - 1.64 * seprop(x)) > breakeven\n",
    "\n",
    "tuango[\"mailto_lbiq\"] = tuango.groupby(\"rfm_iq\")[\"buyer\"].transform(mailto_lb, breakeven)\n",
    "\n",
    "# The rest of the calculations are the same as before.\n",
    "perc_mail = np.nanmean(tuango[\"mailto_lbiq\"])\n",
    "nr_mail = 250902 * perc_mail\n",
    "resp_rate = np.nanmean(tuango.query(f\"mailto_lbiq == True\")[\"buyer\"] == \"yes\")\n",
    "nr_resp = nr_mail * resp_rate\n",
    "deal_cost = 2.5 * nr_mail\n",
    "profit_lbiq = 0.5*avg_amount * nr_resp - deal_cost\n",
    "ROME_lbiq = profit_lbiq / deal_cost\n",
    "\n",
    "print(\n",
    "    f\"\"\"Based on independent RFM, after adjustment for prediction precision, the number of customers BBB should mail is {int(nr_mail):,} ({round((100 * perc_mail), 2)}%).\n",
    "The response rate for the selected customers is predicted to be {round((100 * resp_rate), 2)}% or {int(nr_resp):,} buyers. \n",
    "The expected profit is ${int(profit_lbiq):,}. \n",
    "The mailing cost is estimated to be ${int(deal_cost):,} with a ROME of {round((100 * ROME_lbiq), 2)}%\"\"\"\n",
    ")"
   ]
  },
  {
   "cell_type": "code",
   "execution_count": 333,
   "metadata": {},
   "outputs": [],
   "source": [
    "tuan_lbsq = (\n",
    "    tuango.groupby(\"rfm_sq\")[\"buyer_int\"]\n",
    "    .agg(n_obs=len, prop=np.mean, se=seprop)\n",
    "    .reset_index()\n",
    ")\n",
    "tuan_lbsq[\"prop_lb\"] = tuan_lbsq[\"prop\"] - 1.64 * tuan_lbsq[\"se\"]"
   ]
  },
  {
   "cell_type": "code",
   "execution_count": 334,
   "metadata": {},
   "outputs": [
    {
     "name": "stdout",
     "output_type": "stream",
     "text": [
      "Based on sequential RFM, after adjustment for prediction precision, the number of customers BBB should mail is 56,700 (22.6%).\n",
      "The response rate for the selected customers is predicted to be 7.35% or 4,167 buyers. \n",
      "The expected profit is $279,385. \n",
      "The mailing cost is estimated to be $141,750 with a ROME of 197.1%\n"
     ]
    }
   ],
   "source": [
    "tuango[\"mailto_lbsq\"] = tuango.groupby(\"rfm_sq\")[\"buyer\"].transform(mailto_lb, breakeven)\n",
    "\n",
    "# The rest of the calculations are the same as before.\n",
    "perc_mail = np.nanmean(tuango[\"mailto_lbsq\"])\n",
    "nr_mail = 250902 * perc_mail\n",
    "resp_rate = np.nanmean(tuango.query(f\"mailto_lbsq == True\")[\"buyer\"] == \"yes\")\n",
    "nr_resp = nr_mail * resp_rate\n",
    "deal_cost = 2.5 * nr_mail\n",
    "profit_lbsq = 0.5*avg_amount * nr_resp - deal_cost\n",
    "ROME_lbsq = profit_lbsq / deal_cost\n",
    "\n",
    "print(\n",
    "    f\"\"\"Based on sequential RFM, after adjustment for prediction precision, the number of customers BBB should mail is {int(nr_mail):,} ({round((100 * perc_mail), 2)}%).\n",
    "The response rate for the selected customers is predicted to be {round((100 * resp_rate), 2)}% or {int(nr_resp):,} buyers. \n",
    "The expected profit is ${int(profit_lbsq):,}. \n",
    "The mailing cost is estimated to be ${int(deal_cost):,} with a ROME of {round((100 * ROME_lbsq), 2)}%\"\"\"\n",
    ")"
   ]
  },
  {
   "cell_type": "markdown",
   "metadata": {},
   "source": [
    "To clarify the predictive results of each method, profit and ROME of each is plotted in a barchart."
   ]
  },
  {
   "cell_type": "code",
   "execution_count": 336,
   "metadata": {},
   "outputs": [
    {
     "data": {
      "image/png": "[encoded data removed]",
      "text/plain": [
       "<Figure size 432x288 with 1 Axes>"
      ]
     },
     "metadata": {
      "needs_background": "light"
     },
     "output_type": "display_data"
    },
    {
     "data": {
      "image/png": "[encoded data removed]",
      "text/plain": [
       "<Figure size 432x288 with 1 Axes>"
      ]
     },
     "metadata": {
      "needs_background": "light"
     },
     "output_type": "display_data"
    }
   ],
   "source": [
    "# Create profit and ROME plots:\n",
    "dat = pd.DataFrame(\n",
    "    {\n",
    "        \"name\": [\n",
    "            \"Indep. RFM\",\n",
    "            \"Seq. RFM\",\n",
    "            \"Dif. Seq. RFM\",\n",
    "            \"Indep. lb RFM\",\n",
    "            \"Seq. lb RFM\",\n",
    "        ],\n",
    "        \"Profit\": [\n",
    "            profit_iq,\n",
    "            profit_sq,\n",
    "            profit_filsq,\n",
    "            profit_lbiq,\n",
    "            profit_lbsq,\n",
    "        ],\n",
    "        \"ROME\": [ROME_iq, ROME_sq, ROME_filsq, ROME_lbiq, ROME_lbsq],\n",
    "    }\n",
    ")\n",
    "\n",
    "plt.clf()\n",
    "fig = sns.barplot(x=\"name\", y=\"Profit\", color=\"blue\", data=dat)\n",
    "fig.set(xlabel=\"\", ylabel=\"Campaign profit\")\n",
    "for index, row in dat.iterrows():\n",
    "    fig.text(\n",
    "        row.name, row.Profit - 8000, f\"{int(row.Profit):,}\", ha=\"center\", color=\"white\"\n",
    "    )\n",
    "plt.show()\n",
    "\n",
    "plt.clf()\n",
    "fig = sns.barplot(x=\"name\", y=\"ROME\", color=\"blue\", data=dat)\n",
    "fig.set(xlabel=\"\", ylabel=\"Return on Marketing Expenditures (ROME)\")\n",
    "for index, row in dat.iterrows():\n",
    "    fig.text(\n",
    "        row.name,\n",
    "        row.ROME - 0.05,\n",
    "        f\"{round((100*row.ROME), 2):,}%\",\n",
    "        ha=\"center\",\n",
    "        color=\"white\",\n",
    "    )\n",
    "plt.show()"
   ]
  },
  {
   "cell_type": "code",
   "execution_count": null,
   "metadata": {},
   "outputs": [],
   "source": []
  }
 ],
 "metadata": {
  "kernelspec": {
   "display_name": "Python 3",
   "language": "python",
   "name": "python3"
  },
  "language_info": {
   "codemirror_mode": {
    "name": "ipython",
    "version": 3
   },
   "file_extension": ".py",
   "mimetype": "text/x-python",
   "name": "python",
   "nbconvert_exporter": "python",
   "pygments_lexer": "ipython3",
   "version": "3.6.9"
  }
 },
 "nbformat": 4,
 "nbformat_minor": 4
}
